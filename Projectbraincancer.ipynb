{
 "cells": [
  {
   "cell_type": "code",
   "execution_count": null,
   "id": "edc9ce16-f9c0-4d93-b51d-53b183d518e7",
   "metadata": {},
   "outputs": [],
   "source": [
    "import os\n",
    "import time\n",
    "from PIL import Image\n",
    "import numpy as np\n",
    "import pandas as pd\n",
    "import matplotlib.pyplot as plt\n",
    "from mpl_toolkits.mplot3d import Axes3D\n",
    "from sklearn.neural_network import MLPClassifier\n",
    "from sklearn.naive_bayes import GaussianNB\n",
    "from sklearn.ensemble import AdaBoostClassifier\n",
    "from sklearn.model_selection import train_test_split\n",
    "from sklearn.metrics import accuracy_score, f1_score\n",
    "from sklearn.neighbors import KNeighborsClassifier\n",
    "from sklearn.manifold import Isomap\n",
    "from sklearn.decomposition import PCA\n",
    "from tensorflow.keras.models import Sequential\n",
    "from tensorflow.keras.layers import Input, Conv2D, MaxPooling2D, Flatten, Dense, Dropout\n",
    "import umap.umap_ as umap\n",
    "\n",
    "feature_limit = 750\n",
    "\n",
    "brain_list = []\n",
    "typelist = ['glioma', 'meningioma', 'pituitary', 'notumor']\n",
    "for x in typelist:\n",
    "    for image in os.listdir(f\"archive/brain-tumor-mri-dataset/{x}\")[:feature_limit]:\n",
    "        image_path = os.path.join(f\"archive/brain-tumor-mri-dataset/{x}\", image)\n",
    "        img_arr = np.array(Image.open(image_path).resize((64,64)))\n",
    "        if len(img_arr.shape) == 3:\n",
    "            img_arr = img_arr[:, :, 0]\n",
    "    \n",
    "        #print(img_arr.shape)\n",
    "        #plt.imshow(img_arr)\n",
    "        #plt.show()\n",
    "        brain_list.append(img_arr.flatten())\n",
    "\n",
    "x = np.array(brain_list) / 255\n",
    "\n"
   ]
  },
  {
   "cell_type": "code",
   "execution_count": 6,
   "id": "2c50a9c9-e71f-4034-821d-ae6151cc9e7c",
   "metadata": {},
   "outputs": [],
   "source": [
    "#create label arrays:\n",
    "gli = np.ones((feature_limit, 1))\n",
    "men = np.ones((feature_limit, 1))\n",
    "pit = np.ones((feature_limit, 1))\n",
    "notu = np.zeros((feature_limit, 1))\n",
    "\n",
    "# two or four categories (Cancer or not) Using MLP Classifier\n",
    "#y = np.vstack((gli, men, pit, notu))\n",
    "y = np.vstack((gli, men*2, pit*3, notu))[:, 0]\n",
    "\n",
    "xtrain, xtest, ytrain, ytest = train_test_split(x, y, test_size = 0.2)\n",
    "#print(x)\n"
   ]
  },
  {
   "cell_type": "code",
   "execution_count": 7,
   "id": "8f003bb8-46ff-43c6-81ff-aedbcb7fd41f",
   "metadata": {},
   "outputs": [
    {
     "name": "stdout",
     "output_type": "stream",
     "text": [
      "perceptron acc/f1\n",
      "0.8533333333333334\n",
      "0.8529095801111932\n",
      "adaboost acc/f1\n",
      "0.7366666666666667\n",
      "0.7393689317070788\n",
      "KNN acc/f1\n",
      "0.8116666666666666\n",
      "0.8028490952984769\n"
     ]
    }
   ],
   "source": [
    "perceptron = MLPClassifier(hidden_layer_sizes=(64, 30), learning_rate='invscaling')\n",
    "perceptron.fit(xtrain, ytrain.flatten())\n",
    "perceptron_pred = perceptron.predict(xtest)\n",
    "acc_perceptron = accuracy_score(ytest.flatten(), perceptron_pred)\n",
    "f1_perceptron = f1_score(ytest, perceptron_pred, average='weighted')\n",
    "print('perceptron acc/f1')\n",
    "print(acc_perceptron)\n",
    "print(f1_perceptron)\n",
    "\n",
    "\n",
    "adaboost = AdaBoostClassifier(n_estimators=100, random_state=12)\n",
    "adaboost.fit(xtrain, ytrain.flatten())\n",
    "ada_pred = adaboost.predict(xtest)\n",
    "acc_adaboost = accuracy_score(ytest.flatten(), ada_pred)\n",
    "f1_adaboost = f1_score(ytest, ada_pred, average='weighted')\n",
    "print('adaboost acc/f1')\n",
    "print(acc_adaboost)\n",
    "print(f1_adaboost)\n",
    "\n",
    "knn = KNeighborsClassifier(n_neighbors=5)\n",
    "knn.fit(xtrain, ytrain)\n",
    "knn_pred = knn.predict(xtest)\n",
    "acc_knn = accuracy_score(ytest, knn_pred)\n",
    "f1_knn = f1_score(ytest, knn_pred, average='weighted')\n",
    "print('KNN acc/f1')\n",
    "print(acc_knn)\n",
    "print(f1_knn)"
   ]
  },
  {
   "cell_type": "code",
   "execution_count": null,
   "id": "375681e4-9568-4e78-9982-6cb4e992dad3",
   "metadata": {},
   "outputs": [],
   "source": []
  },
  {
   "cell_type": "code",
   "execution_count": 9,
   "id": "ed27f957-a2c9-4860-8cbe-30aea1b90bef",
   "metadata": {},
   "outputs": [
    {
     "data": {
      "text/html": [
       "<div>\n",
       "<style scoped>\n",
       "    .dataframe tbody tr th:only-of-type {\n",
       "        vertical-align: middle;\n",
       "    }\n",
       "\n",
       "    .dataframe tbody tr th {\n",
       "        vertical-align: top;\n",
       "    }\n",
       "\n",
       "    .dataframe thead th {\n",
       "        text-align: right;\n",
       "    }\n",
       "</style>\n",
       "<table border=\"1\" class=\"dataframe\">\n",
       "  <thead>\n",
       "    <tr style=\"text-align: right;\">\n",
       "      <th></th>\n",
       "      <th>accuracy</th>\n",
       "      <th>f1_score</th>\n",
       "    </tr>\n",
       "  </thead>\n",
       "  <tbody>\n",
       "    <tr>\n",
       "      <th>Perceptron</th>\n",
       "      <td>0.853333</td>\n",
       "      <td>0.852910</td>\n",
       "    </tr>\n",
       "    <tr>\n",
       "      <th>KNN</th>\n",
       "      <td>0.811667</td>\n",
       "      <td>0.802849</td>\n",
       "    </tr>\n",
       "    <tr>\n",
       "      <th>Adaboost</th>\n",
       "      <td>0.736667</td>\n",
       "      <td>0.739369</td>\n",
       "    </tr>\n",
       "  </tbody>\n",
       "</table>\n",
       "</div>"
      ],
      "text/plain": [
       "            accuracy  f1_score\n",
       "Perceptron  0.853333  0.852910\n",
       "KNN         0.811667  0.802849\n",
       "Adaboost    0.736667  0.739369"
      ]
     },
     "metadata": {},
     "output_type": "display_data"
    }
   ],
   "source": [
    "modelresults = {'Perceptron':  {'accuracy':acc_perceptron, 'f1_score':f1_perceptron}, \n",
    "                'Adaboost':    {'accuracy':acc_adaboost,   'f1_score':f1_adaboost},  \n",
    "                'KNN':         {'accuracy':acc_knn,        'f1_score':f1_knn}}\n",
    "\n",
    "display(pd.DataFrame(modelresults).T.sort_values(by='accuracy', ascending=False))"
   ]
  },
  {
   "cell_type": "code",
   "execution_count": null,
   "id": "8c2d95db-0b23-4a04-aa56-72988907785e",
   "metadata": {},
   "outputs": [],
   "source": [
    "# 4 categories (glioma, meningioma, pituitary, notumor)\n",
    "y = np.vstack((gli, men*2, pit*3, notu))[:, 0]\n",
    "#y = y.reshape((1200, 1))\n"
   ]
  },
  {
   "cell_type": "code",
   "execution_count": null,
   "id": "046235a4-407d-421d-9c48-1944e2a35795",
   "metadata": {},
   "outputs": [],
   "source": [
    "#x = x / 255\n",
    "x = x.reshape(-1, 64, 64, 1)\n",
    "#print(x.shape)"
   ]
  },
  {
   "cell_type": "code",
   "execution_count": null,
   "id": "3e4474de-0730-4250-9e59-0cf6ef32fedf",
   "metadata": {},
   "outputs": [],
   "source": [
    "# Split data in training / testing sets\n",
    "\n",
    "xtrain, xtest, ytrain, ytest = train_test_split(x, y, test_size = 0.2)"
   ]
  },
  {
   "cell_type": "code",
   "execution_count": null,
   "id": "a6441f51-beb3-4056-a9b1-eafa96576ee9",
   "metadata": {},
   "outputs": [],
   "source": [
    "# 4 classes\n",
    "model2 = Sequential([\n",
    "    Input(shape=(64, 64, 1)),\n",
    "    \n",
    "    Conv2D(32, (3, 3), activation='relu'),\n",
    "    MaxPooling2D(pool_size=(2, 2)),\n",
    "\n",
    "    Conv2D(64, (3, 3), activation='relu'),\n",
    "    MaxPooling2D(pool_size=(2, 2)),\n",
    "\n",
    "    Conv2D(128, (3, 3), activation='relu'), \n",
    "    MaxPooling2D(pool_size=(2, 2)),\n",
    "    \n",
    "    Flatten(),\n",
    "    Dense(128, activation='relu'),\n",
    "    Dropout(0.2),\n",
    "    Dense(4, activation='softmax')  \n",
    "])"
   ]
  },
  {
   "cell_type": "code",
   "execution_count": null,
   "id": "0ba64689-1a82-4ed2-b69a-9368c9f49d74",
   "metadata": {},
   "outputs": [],
   "source": [
    "from tensorflow.keras.callbacks import EarlyStopping, ModelCheckpoint\n",
    "model2.compile(optimizer='adam',\n",
    "              loss='sparse_categorical_crossentropy',\n",
    "              metrics=['accuracy'])\n",
    "\n",
    "# Stop if val_loss doesn't improve for 3 epochs\n",
    "early_stop = EarlyStopping(monitor='val_loss', patience=4, restore_best_weights=True)\n",
    "\n",
    "history = model2.fit(xtrain, ytrain, epochs=20, batch_size=32, validation_data=(xtest, ytest), callbacks=[early_stop])"
   ]
  },
  {
   "cell_type": "code",
   "execution_count": null,
   "id": "c0b2a1d7-c254-458b-af3e-dd2e82a5c470",
   "metadata": {},
   "outputs": [],
   "source": [
    "loss, accuracy = model2.evaluate(xtest, ytest)\n",
    "print(f\"Test accuracy: {accuracy:.4f}\")\n",
    "\n",
    "y_pred = model2.predict(xtest)\n",
    "y_pred = np.argmax(y_pred, axis=1)\n",
    "ytest = ytest.astype('int')\n",
    "cnn_acc = accuracy_score(ytest, y_pred)\n",
    "f1_cnn = f1_score(ytest, y_pred, average='weighted')\n",
    "\n",
    "modelresults['CNN'] = {'accuracy':cnn_acc, 'f1_score':f1_cnn}\n",
    "\n",
    "display(pd.DataFrame(modelresults).T.sort_values(by='accuracy', ascending=False))"
   ]
  },
  {
   "cell_type": "code",
   "execution_count": null,
   "id": "ec44b8ca-2d6d-4522-950b-281b25b07d57",
   "metadata": {},
   "outputs": [],
   "source": [
    "num_images = 16\n",
    "misclassified = np.where(y_pred != ytest)\n",
    "correct = np.where(y_pred == ytest)\n",
    "\n",
    "plt.figure(figsize=(12, 12))\n",
    "for i in range(num_images):\n",
    "    plt.subplot(4, 4, i + 1)\n",
    "    plt.suptitle(f'Correct Classification samples: {cnn_acc * 100:.2f}% of test images', fontsize=16, fontweight='bold')\n",
    "    img = xtest[i].reshape(64, 64)  \n",
    "    plt.imshow(img, cmap='gray')\n",
    "    plt.title(f\"Pred: {y_pred[correct[0][i]]}\\nTrue: {ytest[correct[0][i]]}\", \n",
    "              color='green' if y_pred[correct[0][i]] == ytest[correct[0][i]] else 'red')\n",
    "    plt.axis('off')\n",
    "plt.tight_layout()\n",
    "plt.show()\n",
    "\n",
    "print()\n",
    "plt.figure(figsize=(12, 12))\n",
    "for i in range(num_images):\n",
    "    plt.subplot(4, 4, i + 1)\n",
    "    plt.suptitle(f'Incorrect Classification samples: {(1 - cnn_acc)*100:.2f}% of test images', fontsize=16, fontweight='bold')\n",
    "    img = xtest[misclassified[0][i]].reshape(64, 64)  \n",
    "    plt.imshow(img, cmap='gray')\n",
    "    plt.title(f\"Pred: {y_pred[misclassified[0][i]]}\\nTrue: {ytest[misclassified[0][i]]}\", \n",
    "              color='green' if y_pred[misclassified[0][i]] == ytest[misclassified[0][i]] else 'red')\n",
    "    plt.axis('off')\n",
    "plt.tight_layout()\n",
    "plt.show()\n"
   ]
  },
  {
   "cell_type": "code",
   "execution_count": null,
   "id": "26a79650-1aad-4355-83fa-a13f34ce2b9f",
   "metadata": {},
   "outputs": [],
   "source": [
    "reducer = umap.UMAP(n_neighbors=11, n_components=4)\n",
    "x_umap = reducer.fit_transform(x.reshape((-1, 64*64)))\n",
    "\n",
    "\n",
    "plt.scatter(x_umap[:, 0], x_umap[:, 1], c=y)\n",
    "plt.plot()\n",
    "\n",
    "# 3d scatterplot\n",
    "fig = plt.figure(figsize=(8, 6))\n",
    "ax = fig.add_subplot(111, projection='3d')\n",
    "scatter = ax.scatter(x_umap[:, 0], x_umap[:, 1], x_umap[:, 2], c=y)\n",
    "ax.legend(*scatter.legend_elements(), title='Legend')\n",
    "plt.show()"
   ]
  },
  {
   "cell_type": "code",
   "execution_count": null,
   "id": "110c8387-736b-44be-9354-6aea9fcd6b44",
   "metadata": {},
   "outputs": [],
   "source": [
    "isomap = Isomap(n_neighbors=14, n_components=3)\n",
    "x_iso = isomap.fit_transform(x.reshape((-1, 64*64)))\n",
    "#print(x_iso.shape)\n",
    "\n",
    "# 2d scatterplot\n",
    "plt.scatter(x_iso[:, 0], x_iso[:, 1], c=y)\n",
    "plt.plot()\n",
    "\n",
    "# 3d scatterplot\n",
    "fig = plt.figure(figsize=(8, 6))\n",
    "ax = fig.add_subplot(111, projection='3d')\n",
    "scatter = ax.scatter(x_iso[:, 0], x_iso[:, 1], x_iso[:, 2], c=y)\n",
    "ax.legend(*scatter.legend_elements(), title='Legend')\n",
    "plt.show()"
   ]
  },
  {
   "cell_type": "code",
   "execution_count": null,
   "id": "06a2358b-8ca9-448f-9448-2cd129109d42",
   "metadata": {},
   "outputs": [],
   "source": [
    "pca = PCA(n_components=3)\n",
    "x_pca = pca.fit_transform(x.reshape((-1, 64*64)))\n",
    "\n",
    "plt.scatter(x_pca[:, 0], x_pca[:, 1], c=y)\n",
    "plt.plot()\n",
    "\n",
    "# 3d scatterplot\n",
    "fig = plt.figure(figsize=(8, 6))\n",
    "ax = fig.add_subplot(111, projection='3d')\n",
    "scatter = ax.scatter(x_pca[:, 0], x_pca[:, 1], x_pca[:, 2], c=y)\n",
    "ax.legend(*scatter.legend_elements(), title='Legend')\n",
    "plt.show()"
   ]
  },
  {
   "cell_type": "code",
   "execution_count": null,
   "id": "91a1e125-2d3a-4451-8ac8-782327f142cb",
   "metadata": {},
   "outputs": [],
   "source": [
    "brain_ex = Image.open(\"C:/Users/ryana/OneDrive/Desktop/GaTech OMSA/Spring '25/ISYE6740 - CDA/Project/brain_samp.jpg\").convert(\"L\")\n",
    "\n",
    "background = Image.new(\"L\", (427, 427))\n",
    "#plt.imshow(background)\n",
    "background.paste(brain_ex, (((427-341) // 2, 0)))\n",
    "\n",
    "brain_ex = np.array(background.resize((64, 64))).reshape((64, 64, 1)) / 255\n",
    "print(brain_ex.shape)\n",
    "plt.imshow(brain_ex, cmap='gray')\n",
    "plt.plot()\n",
    "\n"
   ]
  },
  {
   "cell_type": "code",
   "execution_count": null,
   "id": "48f41a36-bcff-4a6f-a84d-c39a36a216b2",
   "metadata": {},
   "outputs": [],
   "source": [
    "brain_ex = np.expand_dims(brain_ex, axis=0)\n",
    "brainex_pred = model2.predict(brain_ex)\n",
    "brainex_pred = np.argmax(brainex_pred, axis=1)\n",
    "print(brainex_pred)"
   ]
  },
  {
   "cell_type": "code",
   "execution_count": null,
   "id": "5d277a44-5863-4a55-a865-c8b38152e8f8",
   "metadata": {},
   "outputs": [],
   "source": []
  }
 ],
 "metadata": {
  "kernelspec": {
   "display_name": "brain",
   "language": "python",
   "name": "python3"
  },
  "language_info": {
   "codemirror_mode": {
    "name": "ipython",
    "version": 3
   },
   "file_extension": ".py",
   "mimetype": "text/x-python",
   "name": "python",
   "nbconvert_exporter": "python",
   "pygments_lexer": "ipython3",
   "version": "3.13.3"
  }
 },
 "nbformat": 4,
 "nbformat_minor": 5
}
